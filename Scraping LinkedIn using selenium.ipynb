{
 "cells": [
  {
   "cell_type": "code",
   "execution_count": 1,
   "id": "4a15462a",
   "metadata": {},
   "outputs": [],
   "source": [
    "import pandas as pd\n",
    "import re\n",
    "from selenium import webdriver\n",
    "from selenium.webdriver.common.keys import Keys"
   ]
  },
  {
   "cell_type": "code",
   "execution_count": 2,
   "id": "1c4bd765",
   "metadata": {},
   "outputs": [
    {
     "name": "stderr",
     "output_type": "stream",
     "text": [
      "C:\\Users\\SHARMA TELECOME\\AppData\\Local\\Temp\\ipykernel_11336\\3365137870.py:1: DeprecationWarning: executable_path has been deprecated, please pass in a Service object\n",
      "  browser=webdriver.Chrome(\"chromedriver.exe\")\n"
     ]
    }
   ],
   "source": [
    "browser=webdriver.Chrome(\"chromedriver.exe\")\n",
    "browser.get(\"https://www.linkedin.com/\")"
   ]
  },
  {
   "cell_type": "code",
   "execution_count": 3,
   "id": "cc7e8e38",
   "metadata": {},
   "outputs": [
    {
     "name": "stderr",
     "output_type": "stream",
     "text": [
      "C:\\Users\\SHARMA TELECOME\\AppData\\Local\\Temp\\ipykernel_11336\\262879042.py:1: DeprecationWarning: find_element_by_* commands are deprecated. Please use find_element() instead\n",
      "  username=browser.find_element_by_id(\"session_key\")\n",
      "C:\\Users\\SHARMA TELECOME\\AppData\\Local\\Temp\\ipykernel_11336\\262879042.py:3: DeprecationWarning: find_element_by_* commands are deprecated. Please use find_element() instead\n",
      "  password=browser.find_element_by_id(\"session_password\")\n"
     ]
    }
   ],
   "source": [
    "username=browser.find_element_by_id(\"session_key\")\n",
    "username.send_keys(\"arastu.dixit13@gmail.com\")\n",
    "password=browser.find_element_by_id(\"session_password\")\n",
    "password.send_keys(\"\")"
   ]
  },
  {
   "cell_type": "code",
   "execution_count": 4,
   "id": "bd319b0e",
   "metadata": {},
   "outputs": [
    {
     "name": "stderr",
     "output_type": "stream",
     "text": [
      "C:\\Users\\SHARMA TELECOME\\AppData\\Local\\Temp\\ipykernel_11336\\3225200103.py:1: DeprecationWarning: find_element_by_class_name is deprecated. Please use find_element(by=By.CLASS_NAME, value=name) instead\n",
      "  login_button=browser.find_element_by_class_name(\"sign-in-form__submit-button\")\n"
     ]
    }
   ],
   "source": [
    "login_button=browser.find_element_by_class_name(\"sign-in-form__submit-button\")\n",
    "login_button.click()"
   ]
  },
  {
   "cell_type": "code",
   "execution_count": 5,
   "id": "f61ec351",
   "metadata": {},
   "outputs": [],
   "source": [
    "browser.get(\"https://www.linkedin.com/jobs/\")"
   ]
  },
  {
   "cell_type": "code",
   "execution_count": 6,
   "id": "05cbe3b5",
   "metadata": {},
   "outputs": [
    {
     "name": "stderr",
     "output_type": "stream",
     "text": [
      "C:\\Users\\SHARMA TELECOME\\AppData\\Local\\Temp\\ipykernel_11336\\3074510317.py:1: DeprecationWarning: find_elements_by_class_name is deprecated. Please use find_elements(by=By.CLASS_NAME, value=name) instead\n",
      "  job=browser.find_elements_by_class_name(\"job-card-list__title\")\n"
     ]
    },
    {
     "name": "stdout",
     "output_type": "stream",
     "text": [
      "['Fresher', 'Fresher', 'Human Resources Intern', 'Human Resources Intern', 'Analyst/ Senior Analyst- Research Data Analyst', 'Data Analyst', 'Senior Analyst-Marketing & Customer Analytics', 'Python Developer', 'Business Analyst - Advanced Analytics-CPG020563', 'Data Analysis Intern (Remote Internship - Analyst)', 'Summer Internship', 'Sr Data Analyst', 'Python Developer', 'Quant Analytics Associate', 'AGM Data Scientist', 'Summer Interns 2022', 'Associate-Supply chain planning', 'Machine Learning Specialist', 'Data Analyst - Ingestion', 'Python Developer', 'Electrical Engineering Intern', 'Strategy Intern', 'Analyst- Data Science', 'Senior Data Analyst (Bangkok Based, relocation provided)', 'Business Intelligence Analyst', 'Operations Intern', 'Procurement Analyst- Freshers Hiring', 'Graduate Engineering Trainee']\n",
      "\n",
      "28\n"
     ]
    }
   ],
   "source": [
    "job=browser.find_elements_by_class_name(\"job-card-list__title\")\n",
    "job_title=[]\n",
    "for i in job:\n",
    "    job_title.append(i.text)\n",
    "print(job_title)\n",
    "print()\n",
    "print(len(job_title))"
   ]
  },
  {
   "cell_type": "code",
   "execution_count": 7,
   "id": "a963faca",
   "metadata": {},
   "outputs": [
    {
     "name": "stderr",
     "output_type": "stream",
     "text": [
      "C:\\Users\\SHARMA TELECOME\\AppData\\Local\\Temp\\ipykernel_11336\\1001914061.py:1: DeprecationWarning: find_elements_by_class_name is deprecated. Please use find_elements(by=By.CLASS_NAME, value=name) instead\n",
      "  job2=browser.find_elements_by_class_name(\"job-card-container__company-name\")\n"
     ]
    },
    {
     "name": "stdout",
     "output_type": "stream",
     "text": [
      "['Work From Home/ Fresher & Experience Jobs', 'Aashman Foundation', 'Aashman Foundation', 'PwC', 'Jio', 'Accenture in India', 'Programmers.io', 'Genpact', 'Brainnest', 'MARS Exploration Pvt Ltd', 'Tata Consultancy Services', 'Tata Consultancy Services', 'JPMorgan Chase & Co.', 'Vodafone Idea Limited', 'HP', 'Accenture in India', 'PlayerzPot Media Pvt Ltd', 'Crowe', 'IDEMIA', 'PS POWER SOLAR', 'The Glitch', 'dentsu international', 'Agoda', 'Adobe', 'Jugni', 'Zycus', 'Systematix Infotech Pvt. Ltd.']\n",
      "\n",
      "27\n"
     ]
    }
   ],
   "source": [
    "job2=browser.find_elements_by_class_name(\"job-card-container__company-name\")\n",
    "comp_name=[]\n",
    "for i in job2:\n",
    "    comp_name.append(i.text)\n",
    "print(comp_name)\n",
    "print()\n",
    "print(len(comp_name))"
   ]
  },
  {
   "cell_type": "code",
   "execution_count": 8,
   "id": "09323daa",
   "metadata": {},
   "outputs": [
    {
     "name": "stderr",
     "output_type": "stream",
     "text": [
      "C:\\Users\\SHARMA TELECOME\\AppData\\Local\\Temp\\ipykernel_11336\\3075013764.py:1: DeprecationWarning: find_elements_by_class_name is deprecated. Please use find_elements(by=By.CLASS_NAME, value=name) instead\n",
      "  job3=browser.find_elements_by_class_name(\"job-card-container__metadata-item\")\n"
     ]
    },
    {
     "name": "stdout",
     "output_type": "stream",
     "text": [
      "['Gujarat, India', 'Remote', 'Dewas, Madhya Pradesh, India', 'Remote', 'India', 'Remote', 'India', 'Remote', 'Mumbai, Maharashtra, India', 'Hybrid', 'Mumbai, Maharashtra, India', 'On-site', 'Mumbai, Maharashtra, India', 'Indore, Madhya Pradesh, India', 'Remote', 'Pune, Maharashtra, India', 'On-site', 'Mumbai, Maharashtra, India', 'On-site', 'Madhya Pradesh, India', 'Remote', 'India', 'Remote', 'Mumbai, Maharashtra, India', 'On-site', 'Mumbai, Maharashtra, India', 'Mumbai, Maharashtra, India', 'On-site', 'Mumbai, Maharashtra, India', 'Hybrid', 'Mumbai, Maharashtra, India', 'On-site', 'Mumbai, Maharashtra, India', 'Hybrid', 'Noida, Uttar Pradesh, India', 'Noida, Uttar Pradesh, India', 'On-site', 'Noida, Uttar Pradesh, India', 'Hybrid', 'Gurugram, Haryana, India', 'Remote', 'Pune, Maharashtra, India', 'On-site', 'Delhi, Delhi, India', 'Noida, Uttar Pradesh, India', 'India', 'Remote', 'Pune, Maharashtra, India', 'Indore, Madhya Pradesh, India', 'On-site']\n",
      "\n",
      "50\n"
     ]
    }
   ],
   "source": [
    "job3=browser.find_elements_by_class_name(\"job-card-container__metadata-item\")\n",
    "loc_name=[]\n",
    "for i in job3:\n",
    "    loc_name.append(i.text)\n",
    "print(loc_name)\n",
    "print()\n",
    "print(len(loc_name))"
   ]
  },
  {
   "cell_type": "code",
   "execution_count": 9,
   "id": "cddd784a",
   "metadata": {},
   "outputs": [],
   "source": [
    "col=[\"Company Name\",\"Job_title\",\"Location\"]\n",
    "df=pd.DataFrame({\"Company Name\":comp_name[slice(25)],\"Job_title\":slice(job_title),\"Location\":slice(loc_name)})"
   ]
  },
  {
   "cell_type": "code",
   "execution_count": 10,
   "id": "b865fd97",
   "metadata": {},
   "outputs": [
    {
     "data": {
      "text/html": [
       "<div>\n",
       "<style scoped>\n",
       "    .dataframe tbody tr th:only-of-type {\n",
       "        vertical-align: middle;\n",
       "    }\n",
       "\n",
       "    .dataframe tbody tr th {\n",
       "        vertical-align: top;\n",
       "    }\n",
       "\n",
       "    .dataframe thead th {\n",
       "        text-align: right;\n",
       "    }\n",
       "</style>\n",
       "<table border=\"1\" class=\"dataframe\">\n",
       "  <thead>\n",
       "    <tr style=\"text-align: right;\">\n",
       "      <th></th>\n",
       "      <th>Company Name</th>\n",
       "      <th>Job_title</th>\n",
       "      <th>Location</th>\n",
       "    </tr>\n",
       "  </thead>\n",
       "  <tbody>\n",
       "    <tr>\n",
       "      <th>0</th>\n",
       "      <td>Work From Home/ Fresher &amp; Experience Jobs</td>\n",
       "      <td>slice(None, ['Fresher', 'Fresher', 'Human Reso...</td>\n",
       "      <td>slice(None, ['Gujarat, India', 'Remote', 'Dewa...</td>\n",
       "    </tr>\n",
       "    <tr>\n",
       "      <th>1</th>\n",
       "      <td>Aashman Foundation</td>\n",
       "      <td>slice(None, ['Fresher', 'Fresher', 'Human Reso...</td>\n",
       "      <td>slice(None, ['Gujarat, India', 'Remote', 'Dewa...</td>\n",
       "    </tr>\n",
       "    <tr>\n",
       "      <th>2</th>\n",
       "      <td>Aashman Foundation</td>\n",
       "      <td>slice(None, ['Fresher', 'Fresher', 'Human Reso...</td>\n",
       "      <td>slice(None, ['Gujarat, India', 'Remote', 'Dewa...</td>\n",
       "    </tr>\n",
       "    <tr>\n",
       "      <th>3</th>\n",
       "      <td>PwC</td>\n",
       "      <td>slice(None, ['Fresher', 'Fresher', 'Human Reso...</td>\n",
       "      <td>slice(None, ['Gujarat, India', 'Remote', 'Dewa...</td>\n",
       "    </tr>\n",
       "    <tr>\n",
       "      <th>4</th>\n",
       "      <td>Jio</td>\n",
       "      <td>slice(None, ['Fresher', 'Fresher', 'Human Reso...</td>\n",
       "      <td>slice(None, ['Gujarat, India', 'Remote', 'Dewa...</td>\n",
       "    </tr>\n",
       "  </tbody>\n",
       "</table>\n",
       "</div>"
      ],
      "text/plain": [
       "                                Company Name  \\\n",
       "0  Work From Home/ Fresher & Experience Jobs   \n",
       "1                         Aashman Foundation   \n",
       "2                         Aashman Foundation   \n",
       "3                                        PwC   \n",
       "4                                        Jio   \n",
       "\n",
       "                                           Job_title  \\\n",
       "0  slice(None, ['Fresher', 'Fresher', 'Human Reso...   \n",
       "1  slice(None, ['Fresher', 'Fresher', 'Human Reso...   \n",
       "2  slice(None, ['Fresher', 'Fresher', 'Human Reso...   \n",
       "3  slice(None, ['Fresher', 'Fresher', 'Human Reso...   \n",
       "4  slice(None, ['Fresher', 'Fresher', 'Human Reso...   \n",
       "\n",
       "                                            Location  \n",
       "0  slice(None, ['Gujarat, India', 'Remote', 'Dewa...  \n",
       "1  slice(None, ['Gujarat, India', 'Remote', 'Dewa...  \n",
       "2  slice(None, ['Gujarat, India', 'Remote', 'Dewa...  \n",
       "3  slice(None, ['Gujarat, India', 'Remote', 'Dewa...  \n",
       "4  slice(None, ['Gujarat, India', 'Remote', 'Dewa...  "
      ]
     },
     "execution_count": 10,
     "metadata": {},
     "output_type": "execute_result"
    }
   ],
   "source": [
    "df.head()"
   ]
  },
  {
   "cell_type": "code",
   "execution_count": 12,
   "id": "f17a51fe",
   "metadata": {},
   "outputs": [],
   "source": [
    "df.to_csv(\"linkedin_scrapejobs.csv\")"
   ]
  },
  {
   "cell_type": "code",
   "execution_count": null,
   "id": "8852699d",
   "metadata": {},
   "outputs": [],
   "source": []
  }
 ],
 "metadata": {
  "kernelspec": {
   "display_name": "Python 3 (ipykernel)",
   "language": "python",
   "name": "python3"
  },
  "language_info": {
   "codemirror_mode": {
    "name": "ipython",
    "version": 3
   },
   "file_extension": ".py",
   "mimetype": "text/x-python",
   "name": "python",
   "nbconvert_exporter": "python",
   "pygments_lexer": "ipython3",
   "version": "3.10.1"
  }
 },
 "nbformat": 4,
 "nbformat_minor": 5
}
